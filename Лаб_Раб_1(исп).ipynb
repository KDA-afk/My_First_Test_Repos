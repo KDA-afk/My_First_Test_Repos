{
  "nbformat": 4,
  "nbformat_minor": 0,
  "metadata": {
    "colab": {
      "provenance": [],
      "authorship_tag": "ABX9TyPmx0Pjbw11Y5hgCs01loyo",
      "include_colab_link": true
    },
    "kernelspec": {
      "name": "python3",
      "display_name": "Python 3"
    },
    "language_info": {
      "name": "python"
    }
  },
  "cells": [
    {
      "cell_type": "markdown",
      "metadata": {
        "id": "view-in-github",
        "colab_type": "text"
      },
      "source": [
        "<a href=\"https://colab.research.google.com/github/KDA-afk/My_First_Test_Repos/blob/main/%D0%9B%D0%B0%D0%B1_%D0%A0%D0%B0%D0%B1_1(%D0%B8%D1%81%D0%BF).ipynb\" target=\"_parent\"><img src=\"https://colab.research.google.com/assets/colab-badge.svg\" alt=\"Open In Colab\"/></a>"
      ]
    },
    {
      "cell_type": "markdown",
      "source": [
        "# Пример использования Markdown\n",
        "\n",
        "## Нужно сделать:\n",
        "\n",
        "1. Список\n",
        "\n",
        "3. Рисунок\n",
        "\n",
        "5. Таблицу\n",
        "\n",
        "7. Ссылку\n",
        "\n",
        "![Текст описания](https://is1-ssl.mzstatic.com/image/thumb/Purple124/v4/98/82/0e/98820e40-7278-282d-aa3a-881d017027b5/source/512x512bb.jpg)\n",
        "\n",
        "| **A** | **B** || **C** |\n",
        "| ------| ----- || ----- |\n",
        "| 10013 | 334   || 1     |\n",
        "| 45389 | 899   || 2     |\n",
        "\n",
        "[Ссылка на руководсто по Markdown](https://gist.github.com/Jekins/2bf2d0638163f1294637)\n",
        "\n",
        "тест на унику"
      ],
      "metadata": {
        "id": "Rl0hYXesY3q_"
      }
    }
  ]
}